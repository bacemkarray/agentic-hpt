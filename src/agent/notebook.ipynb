{
 "cells": [
  {
   "cell_type": "code",
   "execution_count": null,
   "id": "bfcfcb45",
   "metadata": {},
   "outputs": [
    {
     "name": "stderr",
     "output_type": "stream",
     "text": [
      "c:\\Users\\bkarr\\projects\\agentic-hpt\\.venv\\Lib\\site-packages\\tqdm\\auto.py:21: TqdmWarning: IProgress not found. Please update jupyter and ipywidgets. See https://ipywidgets.readthedocs.io/en/stable/user_install.html\n",
      "  from .autonotebook import tqdm as notebook_tqdm\n"
     ]
    }
   ],
   "source": [
    "import os\n",
    "import mlflow\n",
    "import optuna\n",
    "import xgboost as xgb\n",
    "import pandas as pd\n",
    "import numpy as np\n",
    "from sklearn.model_selection import train_test_split\n",
    "from sklearn.metrics import accuracy_score\n",
    "from langchain_openai import ChatOpenAI\n",
    "from langgraph.graph import StateGraph\n",
    "from typing import TypedDict\n",
    "import matplotlib.pyplot as plt"
   ]
  },
  {
   "cell_type": "code",
   "execution_count": 66,
   "id": "dbaeb83f",
   "metadata": {},
   "outputs": [],
   "source": [
    "# Global Configurations\n",
    "MODEL_VERSION = \"v1.0\"\n",
    "MODEL_ACCURACY = 0.0\n",
    "EXPERIMENT_NAME = \"MLOps_Agent\"\n",
    "DATA_PATH = \"../ml/data/diabetes_prediction_dataset.csv\""
   ]
  },
  {
   "cell_type": "code",
   "execution_count": 8,
   "id": "bd9ba155",
   "metadata": {},
   "outputs": [],
   "source": [
    "# Load Dataset\n",
    "df = pd.read_csv(DATA_PATH)\n",
    "df = pd.get_dummies(df, columns=['smoking_history', 'gender'])\n",
    "X = df.drop(columns=[\"diabetes\"])\n",
    "y = df[\"diabetes\"]\n",
    "X_train, X_test, y_train, y_test = train_test_split(X, y, test_size=0.2, random_state=42)"
   ]
  },
  {
   "cell_type": "code",
   "execution_count": 9,
   "id": "4c391f7b",
   "metadata": {},
   "outputs": [],
   "source": [
    "llm = ChatOpenAI(model=\"gpt-4o\", temperature=0.2)"
   ]
  },
  {
   "cell_type": "code",
   "execution_count": 10,
   "id": "11eaf087",
   "metadata": {},
   "outputs": [],
   "source": [
    "# Hyperparameter Optimization Function\n",
    "def objective(trial):\n",
    "    params = {\n",
    "        \"max_depth\": trial.suggest_int(\"max_depth\", 3, 10),\n",
    "        \"learning_rate\": trial.suggest_loguniform(\"learning_rate\", 0.01, 0.3),\n",
    "        \"n_estimators\": trial.suggest_int(\"n_estimators\", 50, 300),\n",
    "    }\n",
    "    model = xgb.XGBClassifier(**params, use_label_encoder=False, eval_metric=\"logloss\")\n",
    "    model.fit(X_train, y_train)\n",
    "    preds = model.predict(X_test)\n",
    "    return accuracy_score(y_test, preds)"
   ]
  },
  {
   "cell_type": "code",
   "execution_count": null,
   "id": "081f9794",
   "metadata": {},
   "outputs": [],
   "source": [
    "# Train Initial Model\n",
    "study = optuna.create_study(direction=\"maximize\")\n",
    "study.optimize(objective, n_trials=10)\n",
    "best_params = study.best_params\n",
    "model = xgb.XGBClassifier(**best_params, use_label_encoder=False, eval_metric=\"logloss\")\n",
    "model.fit(X_train, y_train)\n",
    "MODEL_ACCURACY = accuracy_score(y_test, model.predict(X_test))"
   ]
  },
  {
   "cell_type": "code",
   "execution_count": 12,
   "id": "30153d9a",
   "metadata": {},
   "outputs": [
    {
     "name": "stderr",
     "output_type": "stream",
     "text": [
      "2025/06/29 17:08:04 WARNING mlflow.models.model: `artifact_path` is deprecated. Please use `name` instead.\n",
      "c:\\Users\\bkarr\\projects\\agentic-hpt\\.venv\\Lib\\site-packages\\xgboost\\sklearn.py:1028: UserWarning: [17:08:04] WARNING: C:\\actions-runner\\_work\\xgboost\\xgboost\\src\\c_api\\c_api.cc:1427: Saving model in the UBJSON format as default.  You can use file extension: `json`, `ubj` or `deprecated` to choose between formats.\n",
      "  self.get_booster().save_model(fname)\n",
      "2025/06/29 17:08:10 WARNING mlflow.models.model: Model logged without a signature and input example. Please set `input_example` parameter when logging the model to auto infer the model signature.\n"
     ]
    }
   ],
   "source": [
    "# Log Model to MLflow\n",
    "with mlflow.start_run():\n",
    "    mlflow.log_params(best_params)\n",
    "    mlflow.log_metric(\"accuracy\", MODEL_ACCURACY)\n",
    "    mlflow.xgboost.log_model(model, \"model\")"
   ]
  },
  {
   "cell_type": "code",
   "execution_count": 29,
   "id": "b1020d77",
   "metadata": {},
   "outputs": [],
   "source": [
    "# Define Workflow State Schema\n",
    "class State(TypedDict):\n",
    "    status: str  # Workflow status (e.g., \"monitoring\", \"retraining\")"
   ]
  },
  {
   "cell_type": "code",
   "execution_count": null,
   "id": "7e8adcc6",
   "metadata": {},
   "outputs": [],
   "source": [
    "from langgraph.types import Command\n",
    "from typing import Literal\n",
    "\n",
    "# MLOps Workflow Functions\n",
    "def model_perf(state: State) -> Command[Literal[\"decide\", \"__end__\"]]:\n",
    "    \"\"\"Monitor model performance.\"\"\"\n",
    "    global MODEL_ACCURACY\n",
    "    print(f\"Monitoring Model: {MODEL_VERSION}, Accuracy: {MODEL_ACCURACY}\")\n",
    "\n",
    "    value = \"drift_detected\" if MODEL_ACCURACY < 0.75 else \"model_healthy\"\n",
    "    goto = \"decide_retraining\" if value == \"drift_detected\" else \"__end__\"\n",
    "    return Command(\n",
    "        update={\"status\": value},\n",
    "        goto=goto\n",
    "    )\n",
    "\n",
    "def decide_retrain(state: State) -> Command[Literal[\"retrain\", \"__end__\"]]:\n",
    "    \"\"\"Decide if retraining is needed using an LLM.\"\"\"\n",
    "    response = llm.predict(\"The model accuracy dropped below the threshold. Should I retrain?\")\n",
    "    value = \"retrain\" if \"yes\" in response.lower() else \"__end__\"\n",
    "    goto = \"deploy\" if value == \"retrain\" else \"__end__\"\n",
    "    return Command(\n",
    "        update={\"status\": value},\n",
    "        goto=goto\n",
    "    )\n",
    "\n",
    "def retrain_model(state):\n",
    "    \"\"\"Retrain model with updated dataset & hyperparameters.\"\"\"\n",
    "    global MODEL_ACCURACY, MODEL_VERSION\n",
    "    study.optimize(objective, n_trials=5)\n",
    "    best_params = study.best_params\n",
    "    new_model = xgb.XGBClassifier(**best_params, use_label_encoder=False, eval_metric=\"logloss\")\n",
    "    new_model.fit(X_train, y_train)\n",
    "    MODEL_ACCURACY = accuracy_score(y_test, new_model.predict(X_test))\n",
    "    MODEL_VERSION = \"v\" + str(int(MODEL_VERSION.split(\"v\")[-1]) + 1)\n",
    "    with mlflow.start_run():\n",
    "        mlflow.log_params(best_params)\n",
    "        mlflow.log_metric(\"new_accuracy\", MODEL_ACCURACY)\n",
    "        mlflow.xgboost.log_model(new_model, \"model\")\n",
    "    return {\"status\": \"deploy\"}\n",
    "\n",
    "def deploy_model(state):\n",
    "    \"\"\"Deploy the updated model.\"\"\"\n",
    "    print(f\"Deploying Model {MODEL_VERSION} with Accuracy: {MODEL_ACCURACY}\")\n",
    "    return {\"status\": \"__end__\"}"
   ]
  },
  {
   "cell_type": "code",
   "execution_count": 69,
   "id": "f1637521",
   "metadata": {},
   "outputs": [
    {
     "data": {
      "image/png": "[encoded data removed]",
      "text/plain": [
       "<IPython.core.display.Image object>"
      ]
     },
     "metadata": {},
     "output_type": "display_data"
    }
   ],
   "source": [
    "from IPython.display import Image, display\n",
    "from langgraph.graph import StateGraph, START, END\n",
    "\n",
    "# Build graph\n",
    "builder = StateGraph(State)\n",
    "builder.add_node(\"monitor\", model_perf)\n",
    "builder.add_node(\"decide\", decide_retrain)\n",
    "builder.add_node(\"retrain\", retrain_model)\n",
    "builder.add_node(\"deploy\", deploy_model)\n",
    "\n",
    "# Logic\n",
    "builder.add_edge(START, \"monitor\")\n",
    "builder.add_edge(\"retrain\", \"deploy\")\n",
    "builder.add_edge(\"deploy\", END)\n",
    "\n",
    "\n",
    "# Add\n",
    "graph = builder.compile()\n",
    "\n",
    "# View\n",
    "display(Image(graph.get_graph().draw_mermaid_png()))"
   ]
  },
  {
   "cell_type": "code",
   "execution_count": null,
   "id": "3d5608b8",
   "metadata": {},
   "outputs": [],
   "source": []
  }
 ],
 "metadata": {
  "kernelspec": {
   "display_name": ".venv",
   "language": "python",
   "name": "python3"
  },
  "language_info": {
   "codemirror_mode": {
    "name": "ipython",
    "version": 3
   },
   "file_extension": ".py",
   "mimetype": "text/x-python",
   "name": "python",
   "nbconvert_exporter": "python",
   "pygments_lexer": "ipython3",
   "version": "3.12.6"
  }
 },
 "nbformat": 4,
 "nbformat_minor": 5
}
