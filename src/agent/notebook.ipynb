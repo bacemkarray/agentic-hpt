{
 "cells": [
  {
   "cell_type": "code",
   "execution_count": 1,
   "id": "bfcfcb45",
   "metadata": {},
   "outputs": [
    {
     "name": "stderr",
     "output_type": "stream",
     "text": [
      "c:\\Users\\bkarr\\projects\\agentic-hpt\\.venv\\Lib\\site-packages\\tqdm\\auto.py:21: TqdmWarning: IProgress not found. Please update jupyter and ipywidgets. See https://ipywidgets.readthedocs.io/en/stable/user_install.html\n",
      "  from .autonotebook import tqdm as notebook_tqdm\n"
     ]
    }
   ],
   "source": [
    "import os\n",
    "import mlflow\n",
    "import optuna\n",
    "import xgboost as xgb\n",
    "import pandas as pd\n",
    "import numpy as np\n",
    "from sklearn.model_selection import train_test_split\n",
    "from sklearn.metrics import accuracy_score\n",
    "from langchain_openai import ChatOpenAI\n",
    "from langgraph.graph import StateGraph\n",
    "from typing import TypedDict\n",
    "import networkx as nx\n",
    "import matplotlib.pyplot as plt"
   ]
  },
  {
   "cell_type": "code",
   "execution_count": 8,
   "id": "dbaeb83f",
   "metadata": {},
   "outputs": [],
   "source": [
    "# Global Configurations\n",
    "MODEL_VERSION = \"v1.0\"\n",
    "MODEL_ACCURACY = 0.0\n",
    "EXPERIMENT_NAME = \"MLOps_Agent\"\n",
    "DATA_PATH = \"../ml/data/diabetes_prediction_dataset.csv\""
   ]
  },
  {
   "cell_type": "code",
   "execution_count": 9,
   "id": "bd9ba155",
   "metadata": {},
   "outputs": [],
   "source": [
    "# Load Dataset\n",
    "df = pd.read_csv(DATA_PATH)\n",
    "df = pd.get_dummies(df, columns=['smoking_history', 'gender'])\n",
    "X = df.drop(columns=[\"diabetes\"])\n",
    "y = df[\"diabetes\"]\n",
    "X_train, X_test, y_train, y_test = train_test_split(X, y, test_size=0.2, random_state=42)"
   ]
  },
  {
   "cell_type": "code",
   "execution_count": 10,
   "id": "4c391f7b",
   "metadata": {},
   "outputs": [],
   "source": [
    "llm = ChatOpenAI(model=\"gpt-4o\", temperature=0.2)"
   ]
  },
  {
   "cell_type": "code",
   "execution_count": 11,
   "id": "11eaf087",
   "metadata": {},
   "outputs": [],
   "source": [
    "# Hyperparameter Optimization Function\n",
    "def objective(trial):\n",
    "    params = {\n",
    "        \"max_depth\": trial.suggest_int(\"max_depth\", 3, 10),\n",
    "        \"learning_rate\": trial.suggest_loguniform(\"learning_rate\", 0.01, 0.3),\n",
    "        \"n_estimators\": trial.suggest_int(\"n_estimators\", 50, 300),\n",
    "    }\n",
    "    model = xgb.XGBClassifier(**params, use_label_encoder=False, eval_metric=\"logloss\")\n",
    "    model.fit(X_train, y_train)\n",
    "    preds = model.predict(X_test)\n",
    "    return accuracy_score(y_test, preds)"
   ]
  },
  {
   "cell_type": "code",
   "execution_count": null,
   "id": "081f9794",
   "metadata": {},
   "outputs": [],
   "source": [
    "# Train Initial Model\n",
    "study = optuna.create_study(direction=\"maximize\")\n",
    "study.optimize(objective, n_trials=10)\n",
    "best_params = study.best_params\n",
    "model = xgb.XGBClassifier(**best_params, use_label_encoder=False, eval_metric=\"logloss\")\n",
    "model.fit(X_train, y_train)\n",
    "MODEL_ACCURACY = accuracy_score(y_test, model.predict(X_test))"
   ]
  },
  {
   "cell_type": "code",
   "execution_count": 13,
   "id": "30153d9a",
   "metadata": {},
   "outputs": [
    {
     "name": "stderr",
     "output_type": "stream",
     "text": [
      "2025/06/28 16:24:18 WARNING mlflow.models.model: `artifact_path` is deprecated. Please use `name` instead.\n",
      "c:\\Users\\bkarr\\projects\\agentic-hpt\\.venv\\Lib\\site-packages\\xgboost\\sklearn.py:1028: UserWarning: [16:24:18] WARNING: C:\\actions-runner\\_work\\xgboost\\xgboost\\src\\c_api\\c_api.cc:1427: Saving model in the UBJSON format as default.  You can use file extension: `json`, `ubj` or `deprecated` to choose between formats.\n",
      "  self.get_booster().save_model(fname)\n",
      "2025/06/28 16:24:24 WARNING mlflow.models.model: Model logged without a signature and input example. Please set `input_example` parameter when logging the model to auto infer the model signature.\n"
     ]
    }
   ],
   "source": [
    "# Log Model to MLflow\n",
    "with mlflow.start_run():\n",
    "    mlflow.log_params(best_params)\n",
    "    mlflow.log_metric(\"accuracy\", MODEL_ACCURACY)\n",
    "    mlflow.xgboost.log_model(model, \"model\")"
   ]
  },
  {
   "cell_type": "code",
   "execution_count": 14,
   "id": "7e8adcc6",
   "metadata": {},
   "outputs": [],
   "source": [
    "# MLOps Workflow Functions\n",
    "def monitor_model(state):\n",
    "    \"\"\"Monitor model performance.\"\"\"\n",
    "    global MODEL_ACCURACY\n",
    "    print(f\"Monitoring Model: {MODEL_VERSION}, Accuracy: {MODEL_ACCURACY}\")\n",
    "    return {\"status\": \"drift_detected\"} if MODEL_ACCURACY < 0.75 else {\"status\": \"model_healthy\"}\n",
    "\n",
    "def decide_retraining(state):\n",
    "    \"\"\"Decide if retraining is needed using an LLM.\"\"\"\n",
    "    response = llm.predict(\"The model accuracy dropped below the threshold. Should I retrain?\")\n",
    "    return {\"status\": \"retrain\"} if \"yes\" in response.lower() else {\"status\": \"done\"}\n",
    "\n",
    "def retrain_model(state):\n",
    "    \"\"\"Retrain model with updated dataset & hyperparameters.\"\"\"\n",
    "    global MODEL_ACCURACY, MODEL_VERSION\n",
    "    study.optimize(objective, n_trials=5)\n",
    "    best_params = study.best_params\n",
    "    new_model = xgb.XGBClassifier(**best_params, use_label_encoder=False, eval_metric=\"logloss\")\n",
    "    new_model.fit(X_train, y_train)\n",
    "    MODEL_ACCURACY = accuracy_score(y_test, new_model.predict(X_test))\n",
    "    MODEL_VERSION = \"v\" + str(int(MODEL_VERSION.split(\"v\")[-1]) + 1)\n",
    "    with mlflow.start_run():\n",
    "        mlflow.log_params(best_params)\n",
    "        mlflow.log_metric(\"new_accuracy\", MODEL_ACCURACY)\n",
    "        mlflow.xgboost.log_model(new_model, \"model\")\n",
    "    return {\"status\": \"deploy\"}\n",
    "\n",
    "def deploy_model(state):\n",
    "    \"\"\"Deploy the updated model.\"\"\"\n",
    "    print(f\"Deploying Model {MODEL_VERSION} with Accuracy: {MODEL_ACCURACY}\")\n",
    "    return {\"status\": \"done\"}\n",
    "\n",
    "def done(state):\n",
    "    \"\"\"End workflow.\"\"\"\n",
    "    print(\"MLOps Workflow Completed Successfully!\")\n",
    "    return state"
   ]
  },
  {
   "cell_type": "code",
   "execution_count": 15,
   "id": "b1020d77",
   "metadata": {},
   "outputs": [],
   "source": [
    "# Define Workflow State Schema\n",
    "class MLOpsState(TypedDict):\n",
    "    status: str  # Workflow status (e.g., \"monitoring\", \"retraining\")"
   ]
  },
  {
   "cell_type": "code",
   "execution_count": 16,
   "id": "32b2fcdb",
   "metadata": {},
   "outputs": [
    {
     "data": {
      "text/plain": [
       "<langgraph.graph.state.StateGraph at 0x204ca1b6930>"
      ]
     },
     "execution_count": 16,
     "metadata": {},
     "output_type": "execute_result"
    }
   ],
   "source": [
    "# Build Workflow with LangGraph\n",
    "workflow = StateGraph(MLOpsState)\n",
    "workflow.add_node(\"monitor\", monitor_model)\n",
    "workflow.add_node(\"decision\", decide_retraining)\n",
    "workflow.add_node(\"retrain\", retrain_model)\n",
    "workflow.add_node(\"deploy\", deploy_model)\n",
    "workflow.add_node(\"done\", done)\n",
    "\n",
    "workflow.set_entry_point(\"monitor\")\n",
    "workflow.add_conditional_edges(\"monitor\", lambda state: \"decision\" if state[\"status\"] == \"drift_detected\" else \"done\")\n",
    "workflow.add_conditional_edges(\"decision\", lambda state: \"retrain\" if state[\"status\"] == \"retrain\" else \"done\")\n",
    "workflow.add_edge(\"retrain\", \"deploy\")\n",
    "workflow.add_edge(\"deploy\", \"done\")\n"
   ]
  },
  {
   "cell_type": "code",
   "execution_count": 17,
   "id": "8407c4d1",
   "metadata": {},
   "outputs": [
    {
     "name": "stdout",
     "output_type": "stream",
     "text": [
      "Monitoring Model: v1.0, Accuracy: 0.9726\n",
      "MLOps Workflow Completed Successfully!\n",
      "MLOps Workflow Output: {'status': 'model_healthy'}\n"
     ]
    }
   ],
   "source": [
    "# Compile and Run Workflow\n",
    "agent = workflow.compile()\n",
    "output = agent.invoke({\"status\": \"monitoring\"})\n",
    "print(\"MLOps Workflow Output:\", output)"
   ]
  },
  {
   "cell_type": "code",
   "execution_count": null,
   "id": "7491aa80",
   "metadata": {},
   "outputs": [],
   "source": [
    "# Visualize Workflow\n",
    "edges = [(\"monitor\", \"decision\"), (\"monitor\", \"done\"), (\"decision\", \"retrain\"),\n",
    "         (\"decision\", \"done\"), (\"retrain\", \"deploy\"), (\"deploy\", \"done\")]\n",
    "G = nx.DiGraph()\n",
    "G.add_edges_from(edges)\n",
    "plt.figure(figsize=(8, 5))\n",
    "pos = nx.spring_layout(G, seed=42)\n",
    "nx.draw(G, pos, with_labels=True, node_color=\"lightblue\", edge_color=\"gray\", node_size=2000, font_size=10, font_weight=\"bold\", arrows=True)\n",
    "plt.title(\"LangGraph MLOps Workflow\")\n",
    "plt.show()"
   ]
  }
 ],
 "metadata": {
  "kernelspec": {
   "display_name": ".venv",
   "language": "python",
   "name": "python3"
  },
  "language_info": {
   "codemirror_mode": {
    "name": "ipython",
    "version": 3
   },
   "file_extension": ".py",
   "mimetype": "text/x-python",
   "name": "python",
   "nbconvert_exporter": "python",
   "pygments_lexer": "ipython3",
   "version": "3.12.6"
  }
 },
 "nbformat": 4,
 "nbformat_minor": 5
}
